{
 "cells": [
  {
   "cell_type": "markdown",
   "metadata": {},
   "source": [
    "<h1>Download Data</h1>\n",
    "We use <a href=\"https://github.com/gulvarol/grocerydataset\">Grocery Dataset</a> collected by Idea Teknoloji, Istanbul, Turkey. It contains 354 tobacco shelves images collected from ~40 locations with 4 cameras.<br>\n",
    "For the sake of clarity create \"data\" directory with \"images\" directory inside. Download and unpack grocery dataset images there.<br>\n",
    "<p>The images dataset can be downloaded using wget and unpacked using tar:</p>\n",
    "<ul style=\"list-style-type:none\">\n",
    "    <li>wget https://github.com/gulvarol/grocerydataset/releases/download/1.0/GroceryDataset_part1.tar.gz</li>\n",
    "    <li>wget https://github.com/gulvarol/grocerydataset/releases/download/1.0/GroceryDataset_part2.tar.gz</li>\n",
    "    <li>tar -xvzf GroceryDataset_part1.tar.gz</li>\n",
    "    <li>tar -xvzf GroceryDataset_part2.tar.gz</li>\n",
    " </ul>\n",
    " After downloading and unpacking your nn-grocery-shelves/data/images/ directory should appear as follows:\n",
    " <ul style=\"list-style-type:none\">\n",
    "    <li>+ your nn-grocery-shelves/data/images/\n",
    "         <ul style=\"list-style-type:none\">\n",
    "            <li>+ a</li>\n",
    "            <li>+ b</li>\n",
    "         </ul>             \n",
    "    </li>\n",
    " </ul>"
   ]
  },
  {
   "cell_type": "code",
   "execution_count": 3,
   "metadata": {},
   "outputs": [],
   "source": [
    "import cv2\n",
    "import pandas as pd\n",
    "from matplotlib import pyplot as plt\n",
    "%matplotlib inline"
   ]
  },
  {
   "cell_type": "code",
   "execution_count": null,
   "metadata": {},
   "outputs": [],
   "source": []
  }
 ],
 "metadata": {
  "kernelspec": {
   "display_name": "Python 3.6 (with Tensorflow GPU)",
   "language": "python",
   "name": "tensorflow"
  },
  "language_info": {
   "codemirror_mode": {
    "name": "ipython",
    "version": 3
   },
   "file_extension": ".py",
   "mimetype": "text/x-python",
   "name": "python",
   "nbconvert_exporter": "python",
   "pygments_lexer": "ipython3",
   "version": "3.6.4"
  }
 },
 "nbformat": 4,
 "nbformat_minor": 2
}
